{
 "cells": [
  {
   "cell_type": "code",
   "execution_count": 1,
   "metadata": {},
   "outputs": [],
   "source": [
    "import cv2"
   ]
  },
  {
   "cell_type": "code",
   "execution_count": 2,
   "metadata": {},
   "outputs": [],
   "source": [
    "import numpy as np"
   ]
  },
  {
   "cell_type": "code",
   "execution_count": 12,
   "metadata": {},
   "outputs": [],
   "source": [
    "img = cv2.imread('/home/alfredo/yugi_project/cv_module/bb_[776, 1202][1285, 1789].png')"
   ]
  },
  {
   "cell_type": "code",
   "execution_count": 5,
   "metadata": {},
   "outputs": [],
   "source": [
    "while True:\n",
    "\n",
    "    cv2.imshow('screen', img)\n",
    "    if (cv2.waitKey(15) & 0xFF) == ord('q'):\n",
    "        cv2.destroyAllWindows()\n",
    "        break"
   ]
  },
  {
   "cell_type": "code",
   "execution_count": 9,
   "metadata": {},
   "outputs": [],
   "source": [
    "import cv2\n",
    "\n",
    "# Read the original image\n",
    "# img = cv2.imread('test.jpg') \n",
    "# Display original image\n",
    "\n",
    "cv2.imshow('Original', img)\n",
    "cv2.waitKey(0)\n",
    "\n",
    "# Convert to graycsale\n",
    "img_gray = cv2.cvtColor(img, cv2.COLOR_BGR2GRAY)\n",
    "# Blur the image for better edge detection\n",
    "img_blur = cv2.GaussianBlur(img_gray, (3,3), 0) \n",
    "\n",
    "# Sobel Edge Detection\n",
    "sobelx = cv2.Sobel(src=img_blur, ddepth=cv2.CV_64F, dx=1, dy=0, ksize=5) # Sobel Edge Detection on the X axis\n",
    "sobely = cv2.Sobel(src=img_blur, ddepth=cv2.CV_64F, dx=0, dy=1, ksize=5) # Sobel Edge Detection on the Y axis\n",
    "sobelxy = cv2.Sobel(src=img_blur, ddepth=cv2.CV_64F, dx=1, dy=1, ksize=5) # Combined X and Y Sobel Edge Detection\n",
    "# Display Sobel Edge Detection Images\n",
    "cv2.imshow('Sobel X', sobelx)\n",
    "cv2.waitKey(0)\n",
    "cv2.imshow('Sobel Y', sobely)\n",
    "cv2.waitKey(0)\n",
    "cv2.imshow('Sobel X Y using Sobel() function', sobelxy)\n",
    "cv2.waitKey(0)\n",
    "\n",
    "# Canny Edge Detection\n",
    "edges = cv2.Canny(image=img_blur, threshold1=100, threshold2=200) # Canny Edge Detection\n",
    "# Display Canny Edge Detection Image\n",
    "cv2.imshow('Canny Edge Detection', edges)\n",
    "cv2.waitKey(0)\n",
    "\n",
    "cv2.destroyAllWindows()\n"
   ]
  },
  {
   "cell_type": "code",
   "execution_count": 11,
   "metadata": {},
   "outputs": [],
   "source": [
    "import cv2 \n",
    "import matplotlib.pyplot as plt\n",
    "%matplotlib inline\n",
    "\n",
    "#reading image\n",
    "# img1 = cv2.imread('eiffel_2.jpeg')  \n",
    "img1 = img\n",
    "gray1 = cv2.cvtColor(img1, cv2.COLOR_BGR2GRAY)\n",
    "\n",
    "#keypoints\n",
    "sift = cv2.xfeatures2d.SIFT_create()\n",
    "keypoints_1, descriptors_1 = sift.detectAndCompute(img1,None)\n",
    "img_1 = cv2.drawKeypoints(gray1,keypoints_1,img1)\n",
    "cv2.imshow('Canny Edge Detection', img1)\n",
    "cv2.waitKey(0)\n",
    "\n",
    "cv2.destroyAllWindows()\n",
    "\n",
    "# plt.imshow(img_1)"
   ]
  },
  {
   "cell_type": "code",
   "execution_count": 13,
   "metadata": {},
   "outputs": [],
   "source": [
    "import cv2 as cv"
   ]
  },
  {
   "cell_type": "code",
   "execution_count": 14,
   "metadata": {},
   "outputs": [],
   "source": [
    "def apply_hsv_filter(original_image, hsv_filter=None):\n",
    "\n",
    "    hsv = cv.cvtColor(original_image, cv.COLOR_BGR2HSV)\n",
    "\n",
    "    # if we haven't been given a defined filter, use the filter values from the GUI\n",
    "    if not hsv_filter:\n",
    "        hsv_filter = self.get_hsv_filter_from_controls()\n",
    "\n",
    "    # add/subtract saturation and value\n",
    "    h, s, v = cv.split(hsv)\n",
    "    s = shift_channel(s, hsv_filter.sAdd)\n",
    "    s = shift_channel(s, -hsv_filter.sSub)\n",
    "    v = shift_channel(v, hsv_filter.vAdd)\n",
    "    v = shift_channel(v, -hsv_filter.vSub)\n",
    "    hsv = cv.merge([h, s, v])\n",
    "\n",
    "    # Set minimum and maximum HSV values to display\n",
    "    lower = np.array([hsv_filter.hMin, hsv_filter.sMin, hsv_filter.vMin])\n",
    "    upper = np.array([hsv_filter.hMax, hsv_filter.sMax, hsv_filter.vMax])\n",
    "    # Apply the thresholds\n",
    "    mask = cv.inRange(hsv, lower, upper)\n",
    "    result = cv.bitwise_and(hsv, hsv, mask=mask)\n",
    "\n",
    "    # convert back to BGR for imshow() to display it properly\n",
    "    img = cv.cvtColor(result, cv.COLOR_HSV2BGR)\n",
    "\n",
    "    return img"
   ]
  },
  {
   "cell_type": "code",
   "execution_count": 19,
   "metadata": {},
   "outputs": [],
   "source": [
    "    def shift_channel( c, amount):\n",
    "        if amount > 0:\n",
    "            lim = 255 - amount\n",
    "            c[c >= lim] = 255\n",
    "            c[c < lim] += amount\n",
    "        elif amount < 0:\n",
    "            amount = -amount\n",
    "            lim = amount\n",
    "            c[c <= lim] = 0\n",
    "            c[c > lim] -= amount\n",
    "        return c\n"
   ]
  },
  {
   "cell_type": "code",
   "execution_count": 15,
   "metadata": {},
   "outputs": [],
   "source": [
    "\n",
    "# custom data structure to hold the state of an HSV filter\n",
    "class HsvFilter:\n",
    "\n",
    "    def __init__(self, hMin=None, sMin=None, vMin=None, hMax=None, sMax=None, vMax=None, \n",
    "                    sAdd=None, sSub=None, vAdd=None, vSub=None):\n",
    "        self.hMin = hMin\n",
    "        self.sMin = sMin\n",
    "        self.vMin = vMin\n",
    "        self.hMax = hMax\n",
    "        self.sMax = sMax\n",
    "        self.vMax = vMax\n",
    "        self.sAdd = sAdd\n",
    "        self.sSub = sSub\n",
    "        self.vAdd = vAdd\n",
    "        self.vSub = vSub\n"
   ]
  },
  {
   "cell_type": "code",
   "execution_count": 22,
   "metadata": {},
   "outputs": [],
   "source": [
    "hsv_filter = HsvFilter(0, 83, 114, 100, 225, 197, 10, 0, 0, 0)\n",
    "while(True):\n",
    "\n",
    "    img2 = apply_hsv_filter(img, hsv_filter)\n",
    "\n",
    "    \n",
    "    \n",
    "    cv2.imshow('screen', img2)\n",
    "    if (cv2.waitKey(15) & 0xFF) == ord('q'):\n",
    "        cv2.destroyAllWindows()\n",
    "        break"
   ]
  },
  {
   "cell_type": "code",
   "execution_count": 13,
   "metadata": {},
   "outputs": [],
   "source": [
    "import cv2\n",
    "import numpy as np\n",
    "\n",
    "color_explore = np.zeros((150,150,3), np.uint8)  \n",
    "color_selected = np.zeros((150,150,3), np.uint8)\n",
    "\n",
    "\n",
    "#save selected color RGB in file\n",
    "def write_to_file(R,G,B):\n",
    "\tf = open(\"saved_color.txt\", \"a\")\n",
    "\tRGB_color=str(R) + \",\" + str(G) + \",\" + str(B) + str(\"\\n\")\n",
    "\tf.write(RGB_color)\n",
    "\tf.close()\n",
    "\n",
    "\n",
    "\n",
    "#Mouse Callback function\n",
    "def show_color(event,x,y,flags,param): \n",
    "\t\n",
    "\tB=img[y,x][0]\n",
    "\tG=img[y,x][1]\n",
    "\tR=img[y,x][2]\n",
    "\tcolor_explore [:] = (B,G,R)\n",
    "\n",
    "\tif event == cv2.EVENT_LBUTTONDOWN:\n",
    "\t\tcolor_selected [:] = (B,G,R)\n",
    "\n",
    "\n",
    "\tif event == cv2.EVENT_RBUTTONDOWN:\n",
    "\t\tB=color_selected[10,10][0]\n",
    "\t\tG=color_selected[10,10][1]\n",
    "\t\tR=color_selected[10,10][2]\n",
    "\t\tprint(R,G,B)\n",
    "\t\twrite_to_file(R,G,B)\n",
    "\t\tprint(hex(R),hex(G),hex(B))\n",
    "\t\n",
    "\n",
    "#live update color with cursor\n",
    "cv2.namedWindow('color_explore')\n",
    "cv2.resizeWindow(\"color_explore\", 50,50);\n",
    "\n",
    "#Show selected color when left mouse button pressed\n",
    "cv2.namedWindow('color_selected')\n",
    "cv2.resizeWindow(\"color_selected\", 50,50);\n",
    "\n",
    "#image window for sample image\n",
    "cv2.namedWindow('image')\n",
    "\n",
    "\n",
    "\n",
    "#mouse call back function declaration\n",
    "cv2.setMouseCallback('image',show_color)\n",
    "\n",
    "#while loop to live update\n",
    "while (1):\n",
    "\t\n",
    "\tcv2.imshow('image',img)\n",
    "\tcv2.imshow('color_explore',color_explore)\n",
    "\tcv2.imshow('color_selected',color_selected)\n",
    "\tk = cv2.waitKey(1) & 0xFF\n",
    "\tif k == 27:\n",
    "\t\tbreak\n",
    "\n",
    "cv2.destroyAllWindows()\n"
   ]
  },
  {
   "cell_type": "code",
   "execution_count": 16,
   "metadata": {},
   "outputs": [],
   "source": [
    "lower_rgb = [40, 56, 78]\n",
    "upper_rgb = [99, 118, 151]"
   ]
  },
  {
   "cell_type": "code",
   "execution_count": 29,
   "metadata": {},
   "outputs": [],
   "source": [
    "lower_bgr = [85,70,60]\n",
    "upper_bgr = [150,100,90]"
   ]
  },
  {
   "cell_type": "code",
   "execution_count": null,
   "metadata": {},
   "outputs": [],
   "source": [
    "Upper = [185 , 110 , 90]\n",
    "Lower = [165, 95, 70]"
   ]
  },
  {
   "cell_type": "code",
   "execution_count": null,
   "metadata": {},
   "outputs": [],
   "source": [
    "c1 = [173 , 106 , 80]\n",
    "c2 = [43 , 139 , 116]\n",
    "c3 = "
   ]
  },
  {
   "cell_type": "code",
   "execution_count": 30,
   "metadata": {},
   "outputs": [],
   "source": [
    "import cv2\n",
    "import numpy as np\n",
    "\n",
    "\n",
    "while(1):\n",
    "\n",
    "    Upper = np.array(upper_bgr)\n",
    "    Lower = np.array(lower_bgr)\n",
    "    \n",
    "    mask = cv2.inRange(img, Lower, Upper)\n",
    "    res = cv2.bitwise_and(img,img, mask= mask)\n",
    "\n",
    "    cv2.imshow('frame',img)\n",
    "    cv2.imshow('mask',mask)\n",
    "    cv2.imshow('res',res)\n",
    "    \n",
    "    k = cv2.waitKey(5) & 0xFF\n",
    "    if k == 27:\n",
    "        break\n",
    "\n",
    "cv2.destroyAllWindows()"
   ]
  },
  {
   "cell_type": "code",
   "execution_count": 19,
   "metadata": {},
   "outputs": [],
   "source": [
    "Upper = np.array(lower_bgr)\n",
    "Lower = np.array(upper_bgr)\n",
    "\n",
    "mask = cv2.inRange(img, Lower, Upper)"
   ]
  },
  {
   "cell_type": "code",
   "execution_count": 27,
   "metadata": {},
   "outputs": [
    {
     "ename": "TypeError",
     "evalue": "Expected Ptr<cv::UMat> for argument 'lowerb'",
     "output_type": "error",
     "traceback": [
      "\u001b[0;31m---------------------------------------------------------------------------\u001b[0m",
      "\u001b[0;31mTypeError\u001b[0m                                 Traceback (most recent call last)",
      "\u001b[0;32m<ipython-input-27-c37f7029bfbf>\u001b[0m in \u001b[0;36m<module>\u001b[0;34m\u001b[0m\n\u001b[0;32m----> 1\u001b[0;31m \u001b[0mmask\u001b[0m \u001b[0;34m=\u001b[0m \u001b[0mcv2\u001b[0m\u001b[0;34m.\u001b[0m\u001b[0minRange\u001b[0m\u001b[0;34m(\u001b[0m\u001b[0mimg\u001b[0m\u001b[0;34m,\u001b[0m \u001b[0mlower_rgb\u001b[0m\u001b[0;34m,\u001b[0m \u001b[0mupper_rgb\u001b[0m\u001b[0;34m)\u001b[0m\u001b[0;34m\u001b[0m\u001b[0;34m\u001b[0m\u001b[0m\n\u001b[0m",
      "\u001b[0;31mTypeError\u001b[0m: Expected Ptr<cv::UMat> for argument 'lowerb'"
     ]
    }
   ],
   "source": [
    "\n",
    "mask = cv2.inRange(img, lower_rgb, upper_rgb)"
   ]
  },
  {
   "cell_type": "code",
   "execution_count": 20,
   "metadata": {},
   "outputs": [
    {
     "data": {
      "text/plain": [
       "array([[0, 0, 0, ..., 0, 0, 0],\n",
       "       [0, 0, 0, ..., 0, 0, 0],\n",
       "       [0, 0, 0, ..., 0, 0, 0],\n",
       "       ...,\n",
       "       [0, 0, 0, ..., 0, 0, 0],\n",
       "       [0, 0, 0, ..., 0, 0, 0],\n",
       "       [0, 0, 0, ..., 0, 0, 0]], dtype=uint8)"
      ]
     },
     "execution_count": 20,
     "metadata": {},
     "output_type": "execute_result"
    }
   ],
   "source": [
    "mask"
   ]
  },
  {
   "cell_type": "code",
   "execution_count": 21,
   "metadata": {},
   "outputs": [
    {
     "data": {
      "text/plain": [
       "array([[False, False, False, ..., False, False, False],\n",
       "       [False, False, False, ..., False, False, False],\n",
       "       [False, False, False, ..., False, False, False],\n",
       "       ...,\n",
       "       [False, False, False, ..., False, False, False],\n",
       "       [False, False, False, ..., False, False, False],\n",
       "       [False, False, False, ..., False, False, False]])"
      ]
     },
     "execution_count": 21,
     "metadata": {},
     "output_type": "execute_result"
    }
   ],
   "source": [
    "mask!=0"
   ]
  },
  {
   "cell_type": "code",
   "execution_count": 24,
   "metadata": {},
   "outputs": [
    {
     "ename": "AttributeError",
     "evalue": "module 'numpy' has no attribute 'zero'",
     "output_type": "error",
     "traceback": [
      "\u001b[0;31m---------------------------------------------------------------------------\u001b[0m",
      "\u001b[0;31mAttributeError\u001b[0m                            Traceback (most recent call last)",
      "\u001b[0;32m<ipython-input-24-75b8b7428276>\u001b[0m in \u001b[0;36m<module>\u001b[0;34m\u001b[0m\n\u001b[0;32m----> 1\u001b[0;31m \u001b[0mnp\u001b[0m\u001b[0;34m.\u001b[0m\u001b[0mzero\u001b[0m\u001b[0;34m(\u001b[0m\u001b[0mmask\u001b[0m\u001b[0;34m!=\u001b[0m\u001b[0;36m0\u001b[0m\u001b[0;34m)\u001b[0m\u001b[0;34m\u001b[0m\u001b[0;34m\u001b[0m\u001b[0m\n\u001b[0m",
      "\u001b[0;31mAttributeError\u001b[0m: module 'numpy' has no attribute 'zero'"
     ]
    }
   ],
   "source": []
  },
  {
   "cell_type": "code",
   "execution_count": null,
   "metadata": {},
   "outputs": [],
   "source": []
  }
 ],
 "metadata": {
  "kernelspec": {
   "display_name": "Python 3.6.9 64-bit",
   "language": "python",
   "name": "python36964bit5b2c67af22bd4155bf2c4873b5098017"
  },
  "language_info": {
   "codemirror_mode": {
    "name": "ipython",
    "version": 3
   },
   "file_extension": ".py",
   "mimetype": "text/x-python",
   "name": "python",
   "nbconvert_exporter": "python",
   "pygments_lexer": "ipython3",
   "version": "3.6.9"
  },
  "toc": {
   "base_numbering": 1,
   "nav_menu": {},
   "number_sections": true,
   "sideBar": true,
   "skip_h1_title": false,
   "title_cell": "Table of Contents",
   "title_sidebar": "Contents",
   "toc_cell": false,
   "toc_position": {},
   "toc_section_display": true,
   "toc_window_display": false
  }
 },
 "nbformat": 4,
 "nbformat_minor": 4
}
